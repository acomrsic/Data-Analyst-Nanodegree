{
 "cells": [
  {
   "cell_type": "markdown",
   "metadata": {},
   "source": [
    "# Project: Test a Perceptual Phenomenon\n",
    "#### Alen Mrsic"
   ]
  },
  {
   "cell_type": "markdown",
   "metadata": {},
   "source": [
    "### Libraries"
   ]
  },
  {
   "cell_type": "code",
   "execution_count": 308,
   "metadata": {},
   "outputs": [],
   "source": [
    "import pandas as pd\n",
    "import seaborn as sns\n",
    "import matplotlib.pyplot as plt\n",
    "from scipy import stats"
   ]
  },
  {
   "cell_type": "markdown",
   "metadata": {},
   "source": [
    "### Data Analysis"
   ]
  },
  {
   "cell_type": "code",
   "execution_count": 182,
   "metadata": {},
   "outputs": [
    {
     "data": {
      "text/html": [
       "<div>\n",
       "<style scoped>\n",
       "    .dataframe tbody tr th:only-of-type {\n",
       "        vertical-align: middle;\n",
       "    }\n",
       "\n",
       "    .dataframe tbody tr th {\n",
       "        vertical-align: top;\n",
       "    }\n",
       "\n",
       "    .dataframe thead th {\n",
       "        text-align: right;\n",
       "    }\n",
       "</style>\n",
       "<table border=\"1\" class=\"dataframe\">\n",
       "  <thead>\n",
       "    <tr style=\"text-align: right;\">\n",
       "      <th></th>\n",
       "      <th>Congruent</th>\n",
       "      <th>Incongruent</th>\n",
       "    </tr>\n",
       "  </thead>\n",
       "  <tbody>\n",
       "    <tr>\n",
       "      <th>0</th>\n",
       "      <td>12.079</td>\n",
       "      <td>19.278</td>\n",
       "    </tr>\n",
       "    <tr>\n",
       "      <th>1</th>\n",
       "      <td>16.791</td>\n",
       "      <td>18.741</td>\n",
       "    </tr>\n",
       "    <tr>\n",
       "      <th>2</th>\n",
       "      <td>9.564</td>\n",
       "      <td>21.214</td>\n",
       "    </tr>\n",
       "    <tr>\n",
       "      <th>3</th>\n",
       "      <td>8.630</td>\n",
       "      <td>15.687</td>\n",
       "    </tr>\n",
       "    <tr>\n",
       "      <th>4</th>\n",
       "      <td>14.669</td>\n",
       "      <td>22.803</td>\n",
       "    </tr>\n",
       "  </tbody>\n",
       "</table>\n",
       "</div>"
      ],
      "text/plain": [
       "   Congruent  Incongruent\n",
       "0     12.079       19.278\n",
       "1     16.791       18.741\n",
       "2      9.564       21.214\n",
       "3      8.630       15.687\n",
       "4     14.669       22.803"
      ]
     },
     "metadata": {},
     "output_type": "display_data"
    },
    {
     "data": {
      "text/html": [
       "<div>\n",
       "<style scoped>\n",
       "    .dataframe tbody tr th:only-of-type {\n",
       "        vertical-align: middle;\n",
       "    }\n",
       "\n",
       "    .dataframe tbody tr th {\n",
       "        vertical-align: top;\n",
       "    }\n",
       "\n",
       "    .dataframe thead th {\n",
       "        text-align: right;\n",
       "    }\n",
       "</style>\n",
       "<table border=\"1\" class=\"dataframe\">\n",
       "  <thead>\n",
       "    <tr style=\"text-align: right;\">\n",
       "      <th></th>\n",
       "      <th>Congruent</th>\n",
       "      <th>Incongruent</th>\n",
       "    </tr>\n",
       "  </thead>\n",
       "  <tbody>\n",
       "    <tr>\n",
       "      <th>count</th>\n",
       "      <td>24.000000</td>\n",
       "      <td>24.000000</td>\n",
       "    </tr>\n",
       "    <tr>\n",
       "      <th>mean</th>\n",
       "      <td>14.051125</td>\n",
       "      <td>22.015917</td>\n",
       "    </tr>\n",
       "    <tr>\n",
       "      <th>std</th>\n",
       "      <td>3.559358</td>\n",
       "      <td>4.797057</td>\n",
       "    </tr>\n",
       "    <tr>\n",
       "      <th>min</th>\n",
       "      <td>8.630000</td>\n",
       "      <td>15.687000</td>\n",
       "    </tr>\n",
       "    <tr>\n",
       "      <th>25%</th>\n",
       "      <td>11.895250</td>\n",
       "      <td>18.716750</td>\n",
       "    </tr>\n",
       "    <tr>\n",
       "      <th>50%</th>\n",
       "      <td>14.356500</td>\n",
       "      <td>21.017500</td>\n",
       "    </tr>\n",
       "    <tr>\n",
       "      <th>75%</th>\n",
       "      <td>16.200750</td>\n",
       "      <td>24.051500</td>\n",
       "    </tr>\n",
       "    <tr>\n",
       "      <th>max</th>\n",
       "      <td>22.328000</td>\n",
       "      <td>35.255000</td>\n",
       "    </tr>\n",
       "  </tbody>\n",
       "</table>\n",
       "</div>"
      ],
      "text/plain": [
       "       Congruent  Incongruent\n",
       "count  24.000000    24.000000\n",
       "mean   14.051125    22.015917\n",
       "std     3.559358     4.797057\n",
       "min     8.630000    15.687000\n",
       "25%    11.895250    18.716750\n",
       "50%    14.356500    21.017500\n",
       "75%    16.200750    24.051500\n",
       "max    22.328000    35.255000"
      ]
     },
     "metadata": {},
     "output_type": "display_data"
    },
    {
     "data": {
      "text/html": [
       "<div>\n",
       "<style scoped>\n",
       "    .dataframe tbody tr th:only-of-type {\n",
       "        vertical-align: middle;\n",
       "    }\n",
       "\n",
       "    .dataframe tbody tr th {\n",
       "        vertical-align: top;\n",
       "    }\n",
       "\n",
       "    .dataframe thead th {\n",
       "        text-align: right;\n",
       "    }\n",
       "</style>\n",
       "<table border=\"1\" class=\"dataframe\">\n",
       "  <thead>\n",
       "    <tr style=\"text-align: right;\">\n",
       "      <th></th>\n",
       "      <th>0</th>\n",
       "    </tr>\n",
       "  </thead>\n",
       "  <tbody>\n",
       "    <tr>\n",
       "      <th>count</th>\n",
       "      <td>24.000000</td>\n",
       "    </tr>\n",
       "    <tr>\n",
       "      <th>mean</th>\n",
       "      <td>-7.964792</td>\n",
       "    </tr>\n",
       "    <tr>\n",
       "      <th>std</th>\n",
       "      <td>4.864827</td>\n",
       "    </tr>\n",
       "    <tr>\n",
       "      <th>min</th>\n",
       "      <td>-21.919000</td>\n",
       "    </tr>\n",
       "    <tr>\n",
       "      <th>25%</th>\n",
       "      <td>-10.258500</td>\n",
       "    </tr>\n",
       "    <tr>\n",
       "      <th>50%</th>\n",
       "      <td>-7.666500</td>\n",
       "    </tr>\n",
       "    <tr>\n",
       "      <th>75%</th>\n",
       "      <td>-3.645500</td>\n",
       "    </tr>\n",
       "    <tr>\n",
       "      <th>max</th>\n",
       "      <td>-1.950000</td>\n",
       "    </tr>\n",
       "  </tbody>\n",
       "</table>\n",
       "</div>"
      ],
      "text/plain": [
       "               0\n",
       "count  24.000000\n",
       "mean   -7.964792\n",
       "std     4.864827\n",
       "min   -21.919000\n",
       "25%   -10.258500\n",
       "50%    -7.666500\n",
       "75%    -3.645500\n",
       "max    -1.950000"
      ]
     },
     "execution_count": 182,
     "metadata": {},
     "output_type": "execute_result"
    }
   ],
   "source": [
    "#import CSV file\n",
    "strop_csv_file = 'stroopdata.csv'\n",
    "strop_data = pd.read_csv(strop_csv_file,delimiter=',')\n",
    "# display first 5 rows of data\n",
    "display(strop_data.head())\n",
    "# display descriptive statistics of data\n",
    "display(strop_data.describe())\n",
    "# calculate diff between Congruent and Incongruent data\n",
    "total_diff = pd.DataFrame(strop_data.Congruent - strop_data.Incongruent)\n",
    "total_diff.describe()"
   ]
  },
  {
   "cell_type": "markdown",
   "metadata": {},
   "source": [
    "## QUESTIONS"
   ]
  },
  {
   "cell_type": "markdown",
   "metadata": {},
   "source": [
    "### 1. What is our independent variable? What is our dependent variable?"
   ]
  },
  {
   "cell_type": "markdown",
   "metadata": {},
   "source": [
    "<ul>\n",
    "<li><b>Independent variable</b> in this task is congruent and incongruent words. </li>\n",
    "<li><b>Dependent variable</b> is response time to read words.</li>\n",
    "</ul>\n",
    "\n",
    "<b>Explanation:</b>\n",
    "Congruent and incongruent words cause ses a change in response time and it isn't possible that response time could cause a change in congruent and incongruent words. "
   ]
  },
  {
   "cell_type": "markdown",
   "metadata": {},
   "source": [
    "### 2. What is an appropriate set of hypotheses for this task? Specify the null and alternative hypotheses based on what you think the researchers might be interested in. Justify your choices."
   ]
  },
  {
   "cell_type": "markdown",
   "metadata": {},
   "source": [
    "#### Hyothesis\n",
    "<ul>\n",
    "<li>Ho - Null hypothesis defines that there is no significant difference between specified populations, in this case,\n",
    "Ho would be that there is no significant difference in mean response time reading congruent and incongruent words (μcongruent - μincongruent= 0). μincongruent is mean response time to read incongruent words and μcongruent is mean response time to read congruent words.\n",
    "</li>\n",
    "\n",
    "<li>Ha -\n",
    "Alternative hypothesis is that there is a difference in mean response time reading congruent and incongruent words (μcongruent - μincongruent  ≠ 0). \n",
    "</li>\n",
    "</ul>"
   ]
  },
  {
   "cell_type": "markdown",
   "metadata": {},
   "source": [
    "#### Appropriate test\n",
    "##### T-test\n",
    "The t-test enables us to decide whether the\n",
    "mean of one condition is really different from the mean of another condition.  We want to compare performance in the two conditions.\n",
    "A one-tailed test is appropriate if the estimated value may depart from the reference value in only one direction and in our example it's an one-tailed test in negative direction."
   ]
  },
  {
   "cell_type": "markdown",
   "metadata": {},
   "source": [
    "### 3. Report some descriptive statistics regarding this dataset. Include at least one measure of central tendency and at least one measure of variability."
   ]
  },
  {
   "cell_type": "code",
   "execution_count": 136,
   "metadata": {},
   "outputs": [],
   "source": [
    "# prepare / separate data\n",
    "congruent = strop_data.Congruent\n",
    "incongruent = strop_data.Incongruent"
   ]
  },
  {
   "cell_type": "markdown",
   "metadata": {},
   "source": [
    "#### Measures of Central Tendency"
   ]
  },
  {
   "cell_type": "code",
   "execution_count": 265,
   "metadata": {},
   "outputs": [
    {
     "data": {
      "text/html": [
       "<div>\n",
       "<style scoped>\n",
       "    .dataframe tbody tr th:only-of-type {\n",
       "        vertical-align: middle;\n",
       "    }\n",
       "\n",
       "    .dataframe tbody tr th {\n",
       "        vertical-align: top;\n",
       "    }\n",
       "\n",
       "    .dataframe thead th {\n",
       "        text-align: right;\n",
       "    }\n",
       "</style>\n",
       "<table border=\"1\" class=\"dataframe\">\n",
       "  <thead>\n",
       "    <tr style=\"text-align: right;\">\n",
       "      <th></th>\n",
       "      <th>Mean</th>\n",
       "      <th>Median</th>\n",
       "    </tr>\n",
       "  </thead>\n",
       "  <tbody>\n",
       "    <tr>\n",
       "      <th>Congruent</th>\n",
       "      <td>14.051125</td>\n",
       "      <td>14.3565</td>\n",
       "    </tr>\n",
       "    <tr>\n",
       "      <th>Incongruent</th>\n",
       "      <td>22.015917</td>\n",
       "      <td>21.0175</td>\n",
       "    </tr>\n",
       "  </tbody>\n",
       "</table>\n",
       "</div>"
      ],
      "text/plain": [
       "                  Mean   Median\n",
       "Congruent    14.051125  14.3565\n",
       "Incongruent  22.015917  21.0175"
      ]
     },
     "execution_count": 265,
     "metadata": {},
     "output_type": "execute_result"
    }
   ],
   "source": [
    "#congruent central tendency measures\n",
    "con_mean = congruent.mean()\n",
    "con_median = congruent.median()\n",
    "\n",
    "#incongruent central tendency measures\n",
    "inc_mean = incongruent.mean()\n",
    "inc_median = incongruent.median()\n",
    "\n",
    "#print results\n",
    "index = ['Congruent', 'Incongruent']\n",
    "df_result = pd.DataFrame({\n",
    "      'Mean': [con_mean, inc_mean],\n",
    "      'Median': [con_median, inc_median]},\n",
    "       index=index)\n",
    "df_result"
   ]
  },
  {
   "cell_type": "markdown",
   "metadata": {},
   "source": [
    "#### Variability Measurement"
   ]
  },
  {
   "cell_type": "code",
   "execution_count": 266,
   "metadata": {},
   "outputs": [
    {
     "data": {
      "text/html": [
       "<div>\n",
       "<style scoped>\n",
       "    .dataframe tbody tr th:only-of-type {\n",
       "        vertical-align: middle;\n",
       "    }\n",
       "\n",
       "    .dataframe tbody tr th {\n",
       "        vertical-align: top;\n",
       "    }\n",
       "\n",
       "    .dataframe thead th {\n",
       "        text-align: right;\n",
       "    }\n",
       "</style>\n",
       "<table border=\"1\" class=\"dataframe\">\n",
       "  <thead>\n",
       "    <tr style=\"text-align: right;\">\n",
       "      <th></th>\n",
       "      <th>Standard deviation</th>\n",
       "    </tr>\n",
       "  </thead>\n",
       "  <tbody>\n",
       "    <tr>\n",
       "      <th>Congruent</th>\n",
       "      <td>3.559358</td>\n",
       "    </tr>\n",
       "    <tr>\n",
       "      <th>Incongruent</th>\n",
       "      <td>4.797057</td>\n",
       "    </tr>\n",
       "  </tbody>\n",
       "</table>\n",
       "</div>"
      ],
      "text/plain": [
       "             Standard deviation\n",
       "Congruent              3.559358\n",
       "Incongruent            4.797057"
      ]
     },
     "execution_count": 266,
     "metadata": {},
     "output_type": "execute_result"
    }
   ],
   "source": [
    "#congruent variability measure\n",
    "con_std = congruent.std()\n",
    "#incongruent variability measure\n",
    "inc_std = incongruent.std()\n",
    "\n",
    "#print results\n",
    "index = ['Congruent', 'Incongruent']\n",
    "df_result = pd.DataFrame({\n",
    "      'Standard deviation': [con_std, inc_std]},\n",
    "       index=index)\n",
    "df_result"
   ]
  },
  {
   "cell_type": "markdown",
   "metadata": {},
   "source": [
    "### 4. Provide one or two visualizations that show the distribution of the sample data. Write one or two sentences noting what you observe about the plot or plots."
   ]
  },
  {
   "cell_type": "code",
   "execution_count": 305,
   "metadata": {},
   "outputs": [],
   "source": [
    "# creating new dataframe with id colum, preparing data for visualization\n",
    "id_strop_data = strop_data\n",
    "id_strop_data['Id'] = strop_data.index\n",
    "\n",
    "# creating new dataframe with melted data, adding Congruent and Incongruent values into one column\n",
    "strop_visual= pd.melt(id_strop_data, \n",
    "       id_vars=['Id'],\n",
    "       value_vars=['Congruent', 'Incongruent'],\n",
    "        var_name='Words',\n",
    "        value_name='ResponseTime')"
   ]
  },
  {
   "cell_type": "code",
   "execution_count": 304,
   "metadata": {},
   "outputs": [
    {
     "data": {
      "text/plain": [
       "Text(0,0.5,'Response Time')"
      ]
     },
     "execution_count": 304,
     "metadata": {},
     "output_type": "execute_result"
    },
    {
     "data": {
      "image/png": "[encoded data removed]",
      "text/plain": [
       "<matplotlib.figure.Figure at 0x244628c3908>"
      ]
     },
     "metadata": {},
     "output_type": "display_data"
    },
    {
     "data": {
      "image/png": "[encoded data removed]",
      "text/plain": [
       "<matplotlib.figure.Figure at 0x2445e6a5c50>"
      ]
     },
     "metadata": {},
     "output_type": "display_data"
    }
   ],
   "source": [
    "# customized width, height tuple in inches\n",
    "plt.figure(figsize=(10,8))\n",
    "# title  name\n",
    "plt.title('BoxPlot - distribution')\n",
    "# creating box plot\n",
    "vboxplot = sns.boxplot(x=\"Words\", y=\"ResponseTime\", data=strop_visual)\n",
    "\n",
    "# customized width, height tuple in inches\n",
    "plt.figure(figsize=(10,8))\n",
    "# title  name\n",
    "plt.title('BarPlot - Response time by sample')\n",
    "# creating bar plot\n",
    "vbarplot = sns.barplot(x=\"Id\", y=\"ResponseTime\", hue=\"Words\", data=strop_visual)\n",
    "# name of x label \n",
    "plt.xlabel(\"Samples\")\n",
    "# name of y label \n",
    "plt.ylabel(\"Response Time\")"
   ]
  },
  {
   "cell_type": "markdown",
   "metadata": {},
   "source": [
    "#### BoxPlot - distribution present:\n",
    "<ul>\n",
    "<li> a longer range between min and max value in congruent words (response time) </li>\n",
    "<li> a difference in the median between congruent and incongruent words  </li>\n",
    "<li> in incongruent words, we notice couple outliers  </li>\n",
    "<li> congruent words have smaller interquartile range  </li>\n",
    "\n",
    "</ul>\n",
    "\n",
    "#### BarPlot - Response time by sample present:\n",
    "<ul>\n",
    "<li> each congruent word takes less time then an incongruent word to read (faster response time for congruent words)  </li>\n",
    "<li> some samples like 14 and 19 really stands out in response time </li>\n",
    "</ul>"
   ]
  },
  {
   "cell_type": "markdown",
   "metadata": {},
   "source": [
    "### 5. Now, perform the statistical test and report your results. What is your confidence level or Type I error associated with your test? What is your conclusion regarding the hypotheses you set up? Did the results match up with your expectations? Hint: Think about what is being measured on each individual, and what statistic best captures how an individual reacts in each environment."
   ]
  },
  {
   "cell_type": "markdown",
   "metadata": {},
   "source": [
    "<ul>\n",
    "\n",
    "<li>Confidence level = 95% </li>\n",
    "<li>Degrees of freedom (Df) = 23 </li>\n",
    "<li>t-critical = 2.069 </li>\n",
    "<li>A = 0.05</li>\n",
    "\n",
    "</ul>"
   ]
  },
  {
   "cell_type": "code",
   "execution_count": 325,
   "metadata": {},
   "outputs": [
    {
     "name": "stdout",
     "output_type": "stream",
     "text": [
      "p-value: 4.103000585711178e-08\n",
      "t-value: 8.020706944109957\n"
     ]
    }
   ],
   "source": [
    "t_test = stats.ttest_rel(incongruent,congruent)\n",
    "print(\"p-value: \" + str(t_test.pvalue))\n",
    "print(\"t-value: \" + str(t_test.statistic))"
   ]
  },
  {
   "cell_type": "markdown",
   "metadata": {},
   "source": [
    "<b>Explanation:</b> If the Null hypothesis is true there's only 0.0000041% chance there is no significant difference in mean response time reading congruent and incongruent words. We can see in result that t_value is outside of t-critical value, so we can reject a Null hypothesis. Also, that correspond to real life situation when we try to read congruent and incongruent words, we'll need more time to read incongruent words. "
   ]
  },
  {
   "cell_type": "markdown",
   "metadata": {},
   "source": [
    "#### 6. Optional: What do you think is responsible for the effects observed? Can you think of an alternative or similar task that would result in a similar effect? Some research about the problem will be helpful for thinking about these two questions!"
   ]
  },
  {
   "cell_type": "markdown",
   "metadata": {},
   "source": [
    "<ul>\n",
    "\n",
    "<li>\n",
    "When our brain needs to resolve differences between two sources of information, it needs to work harder and that makes the task take longer. Check the research: <a href=\"https://imotions.com/blog/the-stroop-effect/\">The stroop effect.</a>\n",
    "</li>\n",
    "<li> An example that would have a similar effect -  the reaction time when driving under the influence of alchohol. Some research about that: <a href=\"https://www.researchgate.net/publication/19464877_Effects_of_alcohol_and_practice_on_choice_reaction_time\">Reaction Time and alcohol</a>\n",
    "</li>\n",
    "</ul>"
   ]
  },
  {
   "cell_type": "markdown",
   "metadata": {},
   "source": [
    "### References\n",
    "<ul>\n",
    "<li><a href=\"https://en.wikipedia.org/wiki/Stroop_effect\">Wikipedia: Stroop effect</a></li>\n",
    "<li><a href=\"https://en.wikipedia.org/wiki/Null_hypothesis\">Null hypothesis</a></li>\n",
    "<li><a href=\"https://en.wikipedia.org/wiki/One-_and_two-tailed_tests\">One and two tailed tests</a></li>\n",
    "<li><a href=\"http://www.statisticshowto.com/tables/t-distribution-table\">T distribution table</a></li>\n",
    "<li><a href=\"https://docs.scipy.org/doc/scipy-0.14.0/reference/generated/scipy.stats.ttest_rel.html\">SciPy stats.ttest_rel</a></li>\n",
    "</ul>"
   ]
  }
 ],
 "metadata": {
  "kernelspec": {
   "display_name": "Python 3",
   "language": "python",
   "name": "python3"
  },
  "language_info": {
   "codemirror_mode": {
    "name": "ipython",
    "version": 3
   },
   "file_extension": ".py",
   "mimetype": "text/x-python",
   "name": "python",
   "nbconvert_exporter": "python",
   "pygments_lexer": "ipython3",
   "version": "3.6.4"
  }
 },
 "nbformat": 4,
 "nbformat_minor": 2
}
